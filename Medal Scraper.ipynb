{
 "cells": [
  {
   "cell_type": "code",
   "execution_count": 1,
   "metadata": {},
   "outputs": [],
   "source": [
    "from urllib3 import poolmanager\n",
    "from bs4 import BeautifulSoup\n",
    "\n",
    "def get_soup():\n",
    "    cb = poolmanager.PoolManager()\n",
    "    html = cb.request(\"GET\",\"https://en.wikipedia.org/wiki/2020_Summer_Olympics_medal_table\")\n",
    "    soup = BeautifulSoup(html.data)\n",
    "    return soup"
   ]
  },
  {
   "cell_type": "code",
   "execution_count": 53,
   "metadata": {},
   "outputs": [],
   "source": [
    "import pandas as pd\n",
    "import numpy as np\n",
    "\n",
    "def MedalSoupIntoPandas(soup):\n",
    "    df_medals = pd.DataFrame(columns = [\"Country\",\"Gold\",\"Silver\",\"Bronze\"])\n",
    "                             \n",
    "    table = soup.find_all(\"table\")[1]\n",
    "    trs = table.find_all(\"tr\")\n",
    "    for row in trs[1:-1]:\n",
    "        tds = row.find_all(\"td\")\n",
    "        th = row.find(\"th\")\n",
    "        c = th.get_text().replace(\"*\",\"\")[-4:-1]\n",
    "        g = tds[-4].get_text()\n",
    "        s = tds[-3].get_text()\n",
    "        b = tds[-2].get_text()\n",
    "        rowdict = {\"Country\":c,\"Gold\":g,\"Silver\":s,\"Bronze\":b}\n",
    "        \n",
    "        df_medals = df_medals.append(rowdict,ignore_index=True)\n",
    "    return df_medals"
   ]
  },
  {
   "cell_type": "code",
   "execution_count": 5,
   "metadata": {},
   "outputs": [],
   "source": [
    "s = get_soup()"
   ]
  },
  {
   "cell_type": "code",
   "execution_count": 56,
   "metadata": {},
   "outputs": [],
   "source": [
    "MedalSoupIntoPandas(s).to_csv(\"medals.csv\",index=False)"
   ]
  },
  {
   "cell_type": "code",
   "execution_count": null,
   "metadata": {},
   "outputs": [],
   "source": []
  }
 ],
 "metadata": {
  "kernelspec": {
   "display_name": "Python 3",
   "language": "python",
   "name": "python3"
  },
  "language_info": {
   "codemirror_mode": {
    "name": "ipython",
    "version": 3
   },
   "file_extension": ".py",
   "mimetype": "text/x-python",
   "name": "python",
   "nbconvert_exporter": "python",
   "pygments_lexer": "ipython3",
   "version": "3.7.6"
  }
 },
 "nbformat": 4,
 "nbformat_minor": 4
}
